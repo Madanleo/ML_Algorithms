{
 "cells": [
  {
   "cell_type": "code",
   "execution_count": 1,
   "metadata": {},
   "outputs": [
    {
     "name": "stdout",
     "output_type": "stream",
     "text": [
      "the coefficients are: C0 = -7.0   C1= 5.0\n",
      "the predicted values are\n",
      "x [1, 3, 5, 7, 9]\n",
      "y [-2.0, 8.0, 18.0, 28.0, 38.0]\n",
      "the error is 16.492422502470642\n",
      "model is wrong\n"
     ]
    }
   ],
   "source": [
    "// mean value\n",
    "def vmean(value):\n",
    "    return sum(value)/float(len(value))\n",
    "//covariance value\n",
    "def covariance(x,y, mean_x, mean_y):\n",
    "    covar=0\n",
    "    for i in range(len(x)):\n",
    "        covar+= (x[i]-mean_x)*(y[i]- mean_y)\n",
    "    return covar\n",
    "//variance value\n",
    "def var(value, mean):\n",
    "    a=0\n",
    "    for i in range(len(value)):\n",
    "        a+= pow((value[i]-mean),2)\n",
    "    return a/float(len(value))\n",
    "def coeff(dataset):\n",
    "    x = [row[0] for row in dataset]\n",
    "    y = [row[1] for row in dataset]\n",
    "    mean_x = mean(x)\n",
    "    mean_y = mean(y)\n",
    "    var_x = var(x,mean_x)\n",
    "    b1 = covariance(x,y,mean_x,mean_y)/var_x\n",
    "    b0 = mean_y-b1*mean_x\n",
    "    return [b0,b1]\n",
    "\n",
    "#predicting y value\n",
    "def predection(b0, b1, x):\n",
    "    y=[]\n",
    "    for i in range(len(x)):\n",
    "        a = (b1*x[i])+b0\n",
    "        y.append(a)\n",
    "    return y\n",
    "\n",
    "\n",
    "#calculating RMSE\n",
    "def rmse(y, y_cap):\n",
    "    a=0\n",
    "    for i in range(len(y)):\n",
    "        a+=pow(y_cap[i]-y[i],2)\n",
    "    rmse = (a/len(y))**(1/2.0)\n",
    "    return rmse\n",
    "#Input given\n",
    "\n",
    "dataset = [(1, 6), (2, 7), (3, 8), (4, 9), (5, 10),]\n",
    "test = [(1, 2), (3, 4), (5, 6), (7, 8), (9, 10)]\n",
    "c0, c1 = coeff(dataset)\n",
    "print(\"the coefficients are: C0 =\",c0, \"  C1=\",c1 )\n",
    "x = [row[0] for row in test]\n",
    "y_cap = [row[1] for row in test]\n",
    "y = predection(c0, c1, x)\n",
    "print(\"the predicted values are\")\n",
    "print(\"x\",x)\n",
    "print(\"y\",y)\n",
    "rmse = rmse(y,y_cap)\n",
    "print(\"the error is\", rmse)\n",
    "if rmse <= 1.0:\n",
    "    if rmse >= -1.0:\n",
    "          print(\"model is right\")\n",
    "else:\n",
    "    print(\"model is wrong\")"
   ]
  },
  {
   "cell_type": "code",
   "execution_count": null,
   "metadata": {},
   "outputs": [],
   "source": []
  }
 ],
 "metadata": {
  "kernelspec": {
   "display_name": "Python 3",
   "language": "python",
   "name": "python3"
  },
  "language_info": {
   "codemirror_mode": {
    "name": "ipython",
    "version": 3
   },
   "file_extension": ".py",
   "mimetype": "text/x-python",
   "name": "python",
   "nbconvert_exporter": "python",
   "pygments_lexer": "ipython3",
   "version": "3.7.0"
  }
 },
 "nbformat": 4,
 "nbformat_minor": 2
}
